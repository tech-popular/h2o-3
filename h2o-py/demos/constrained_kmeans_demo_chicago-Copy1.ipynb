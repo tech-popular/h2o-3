{
 "cells": [
  {
   "cell_type": "markdown",
   "metadata": {},
   "source": [
    "# Constrained K-Means demo - Chicago Weather Dataset"
   ]
  },
  {
   "cell_type": "markdown",
   "metadata": {},
   "source": [
    "## H2O K-Means algorithm\n",
    "\n",
    "K-Means falls in the general category of clustering algorithms. Clustering is a form of unsupervised learning that tries to find structures in the data without using any labels or target values. Clustering partitions a set of observations into separate groupings such that observation in a given group is more similar to another observation in the same group than to another observation in a different group.\n",
    "\n",
    "![kmeans](https://media0.giphy.com/media/12vVAGkaqHUqCQ/giphy.gif?cid=790b7611178aaedddb5b58de2ef94d55dc6c3feecd2d02f2&rid=giphy.gif)\n",
    "\n",
    "More about H2O K-means Clustering: http://docs.h2o.ai/h2o/latest-stable/h2o-docs/data-science/k-means.html\n",
    "\n",
    "## Constrained K-Means algorithm in H2O\n",
    "\n",
    "Using the `cluster_size_constraints` parameter, a user can set the minimum size of each cluster during the training by an array of numbers. The size of the array must be equal as the `k` parameter.\n",
    "\n",
    "To satisfy the custom minimal cluster size, the calculation of clusters is converted to the Minimal Cost Flow problem. Instead of using the Lloyd iteration algorithm, a graph is constructed based on the distances and constraints. The goal is to go iteratively through the input edges and create an optimal spanning tree that satisfies the constraints.\n",
    "\n",
    "![mcf](https://adared.ch/wp-content/uploads/2015/11/mcf.png)\n",
    "\n",
    "More information about how to convert the standard K-means algorithm to the Minimal Cost Flow problem is described in this paper: https://pdfs.semanticscholar.org/ecad/eb93378d7911c2f7b9bd83a8af55d7fa9e06.pdf.\n",
    "\n",
    "**Minimum-cost flow problem can be efficiently solved in polynomial time. Currently, the performance of this implementation of Constrained K-means algorithm is slow due to many repeatable calculations which cannot be parallelized and more optimized at H2O backend.**\n",
    "\n",
    "Expected time with various sized data:\n",
    "* 5 000 rows, 5 features   ~ 0h  4m  3s\n",
    "* 10 000 rows, 5 features  ~ 0h  9m 21s\n",
    "* 15 000 rows, 5 features  ~ 0h 22m 25s\n",
    "* 20 000 rows, 5 features  ~ 0h 39m 27s\n",
    "* 25 000 rows, 5 features  ~ 1h 06m  8s\n",
    "* 30 000 rows, 5 features  ~ 1h 26m 43s\n",
    "* 35 000 rows, 5 features  ~ 1h 44m  7s\n",
    "* 40 000 rows, 5 features  ~ 2h 13m 31s\n",
    "* 45 000 rows, 5 features  ~ 2h  4m 29s\n",
    "* 50 000 rows, 5 features  ~ 4h  4m 18s\n",
    "\n",
    "(OS debian 10.0 (x86-64), processor Intel© Core™ i7-7700HQ CPU @ 2.80GHz × 4, RAM 23.1 GiB)\n",
    "\n",
    "## Shorter time using Aggregator Model\n",
    "\n",
    "To solve Constrained K-means in a shorter time, you can used the H2O Aggregator model to aggregate data to smaller size first and then pass these data to the Constrained K-means model to calculate the final centroids to be used with scoring. The results won't be as accurate as a result from a model with the whole dataset. However, it should help solve the problem of a huge datasets.\n",
    "\n",
    "However, there are some assumptions:\n",
    "* the large dataset has to consist of many similar data points - if not, the insensitive aggregation can break the structure of the dataset\n",
    "* the resulting clustering may not meet the initial constraints exactly when scoring (this also applies to Constrained K-means model, scoring use only result centroids to score and no constraints defined before)\n",
    "\n",
    "The H2O Aggregator method is a clustering-based method for reducing a numerical/categorical dataset into a dataset with fewer rows. Aggregator maintains outliers as outliers but lumps together dense clusters into exemplars with an attached count column showing the member points.\n",
    "\n",
    "More about H2O Aggregator: http://docs.h2o.ai/h2o/latest-stable/h2o-docs/data-science/aggregator.html"
   ]
  },
  {
   "cell_type": "code",
   "execution_count": 1,
   "metadata": {},
   "outputs": [],
   "source": [
    "import sys\n",
    "sys.path.append(\"/home/mori/Documents/h2o/env/h2o-env/lib/python3.7/site-packages\")\n",
    "sys.path.append(\"/home/mori/Documents/h2o/code/h2o-3/h2o-py/build\")"
   ]
  },
  {
   "cell_type": "code",
   "execution_count": 2,
   "metadata": {},
   "outputs": [
    {
     "name": "stdout",
     "output_type": "stream",
     "text": [
      "versionFromGradle='3.29.0',projectVersion='3.29.0.99999',branch='maurever_PUBDEV-6447_constrained_kmeans_improvement',lastCommitHash='162ceb18eae8b773028f27b284129c3ef752d001',gitDescribe='jenkins-master-4952-11-g162ceb18ea-dirty',compiledOn='2020-02-20 15:01:59',compiledBy='mori'\n",
      "Checking whether there is an H2O instance running at http://10.30.0.22:54321 . connected.\n"
     ]
    },
    {
     "data": {
      "text/html": [
       "<div style=\"overflow:auto\"><table style=\"width:50%\"><tr><td>H2O cluster uptime:</td>\n",
       "<td>19 secs</td></tr>\n",
       "<tr><td>H2O cluster timezone:</td>\n",
       "<td>Europe/Berlin</td></tr>\n",
       "<tr><td>H2O data parsing timezone:</td>\n",
       "<td>UTC</td></tr>\n",
       "<tr><td>H2O cluster version:</td>\n",
       "<td>3.29.0.99999</td></tr>\n",
       "<tr><td>H2O cluster version age:</td>\n",
       "<td>9 hours and 56 minutes </td></tr>\n",
       "<tr><td>H2O cluster name:</td>\n",
       "<td>mori</td></tr>\n",
       "<tr><td>H2O cluster total nodes:</td>\n",
       "<td>1</td></tr>\n",
       "<tr><td>H2O cluster free memory:</td>\n",
       "<td>5.109 Gb</td></tr>\n",
       "<tr><td>H2O cluster total cores:</td>\n",
       "<td>8</td></tr>\n",
       "<tr><td>H2O cluster allowed cores:</td>\n",
       "<td>8</td></tr>\n",
       "<tr><td>H2O cluster status:</td>\n",
       "<td>accepting new members, healthy</td></tr>\n",
       "<tr><td>H2O connection url:</td>\n",
       "<td>http://10.30.0.22:54321</td></tr>\n",
       "<tr><td>H2O connection proxy:</td>\n",
       "<td>None</td></tr>\n",
       "<tr><td>H2O internal security:</td>\n",
       "<td>False</td></tr>\n",
       "<tr><td>H2O API Extensions:</td>\n",
       "<td>Amazon S3, XGBoost, Algos, AutoML, Core V3, TargetEncoder, Core V4</td></tr>\n",
       "<tr><td>Python version:</td>\n",
       "<td>3.7.3 candidate</td></tr></table></div>"
      ],
      "text/plain": [
       "--------------------------  ------------------------------------------------------------------\n",
       "H2O cluster uptime:         19 secs\n",
       "H2O cluster timezone:       Europe/Berlin\n",
       "H2O data parsing timezone:  UTC\n",
       "H2O cluster version:        3.29.0.99999\n",
       "H2O cluster version age:    9 hours and 56 minutes\n",
       "H2O cluster name:           mori\n",
       "H2O cluster total nodes:    1\n",
       "H2O cluster free memory:    5.109 Gb\n",
       "H2O cluster total cores:    8\n",
       "H2O cluster allowed cores:  8\n",
       "H2O cluster status:         accepting new members, healthy\n",
       "H2O connection url:         http://10.30.0.22:54321\n",
       "H2O connection proxy:\n",
       "H2O internal security:      False\n",
       "H2O API Extensions:         Amazon S3, XGBoost, Algos, AutoML, Core V3, TargetEncoder, Core V4\n",
       "Python version:             3.7.3 candidate\n",
       "--------------------------  ------------------------------------------------------------------"
      ]
     },
     "metadata": {},
     "output_type": "display_data"
    }
   ],
   "source": [
    "# run h2o Kmeans\n",
    "\n",
    "# Import h2o library\n",
    "import h2o\n",
    "from h2o.estimators import H2OKMeansEstimator\n",
    "\n",
    "# init h2o cluster\n",
    "h2o.init(strict_version_check=False, url=\"http://10.30.0.22:54321\")"
   ]
  },
  {
   "cell_type": "markdown",
   "metadata": {},
   "source": [
    "## Data - Chicago Weather dataset\n",
    "\n",
    "- 5162 rows\n",
    "- 5 features (monht, day, year, maximal temperature, mean teperature)"
   ]
  },
  {
   "cell_type": "code",
   "execution_count": 3,
   "metadata": {},
   "outputs": [
    {
     "name": "stdout",
     "output_type": "stream",
     "text": [
      "(5162, 5)\n"
     ]
    },
    {
     "data": {
      "text/html": [
       "<div>\n",
       "<style scoped>\n",
       "    .dataframe tbody tr th:only-of-type {\n",
       "        vertical-align: middle;\n",
       "    }\n",
       "\n",
       "    .dataframe tbody tr th {\n",
       "        vertical-align: top;\n",
       "    }\n",
       "\n",
       "    .dataframe thead th {\n",
       "        text-align: right;\n",
       "    }\n",
       "</style>\n",
       "<table border=\"1\" class=\"dataframe\">\n",
       "  <thead>\n",
       "    <tr style=\"text-align: right;\">\n",
       "      <th></th>\n",
       "      <th>month</th>\n",
       "      <th>day</th>\n",
       "      <th>year</th>\n",
       "      <th>maxTemp</th>\n",
       "      <th>meanTemp</th>\n",
       "    </tr>\n",
       "  </thead>\n",
       "  <tbody>\n",
       "    <tr>\n",
       "      <th>0</th>\n",
       "      <td>1</td>\n",
       "      <td>1</td>\n",
       "      <td>2001</td>\n",
       "      <td>23.0</td>\n",
       "      <td>14.0</td>\n",
       "    </tr>\n",
       "    <tr>\n",
       "      <th>1</th>\n",
       "      <td>1</td>\n",
       "      <td>2</td>\n",
       "      <td>2001</td>\n",
       "      <td>18.0</td>\n",
       "      <td>12.0</td>\n",
       "    </tr>\n",
       "    <tr>\n",
       "      <th>2</th>\n",
       "      <td>1</td>\n",
       "      <td>3</td>\n",
       "      <td>2001</td>\n",
       "      <td>28.0</td>\n",
       "      <td>18.0</td>\n",
       "    </tr>\n",
       "    <tr>\n",
       "      <th>3</th>\n",
       "      <td>1</td>\n",
       "      <td>4</td>\n",
       "      <td>2001</td>\n",
       "      <td>30.0</td>\n",
       "      <td>24.0</td>\n",
       "    </tr>\n",
       "    <tr>\n",
       "      <th>4</th>\n",
       "      <td>1</td>\n",
       "      <td>5</td>\n",
       "      <td>2001</td>\n",
       "      <td>36.0</td>\n",
       "      <td>30.0</td>\n",
       "    </tr>\n",
       "  </tbody>\n",
       "</table>\n",
       "</div>"
      ],
      "text/plain": [
       "   month  day  year  maxTemp  meanTemp\n",
       "0      1    1  2001     23.0      14.0\n",
       "1      1    2  2001     18.0      12.0\n",
       "2      1    3  2001     28.0      18.0\n",
       "3      1    4  2001     30.0      24.0\n",
       "4      1    5  2001     36.0      30.0"
      ]
     },
     "execution_count": 3,
     "metadata": {},
     "output_type": "execute_result"
    }
   ],
   "source": [
    "# load data\n",
    "import pandas as pd\n",
    "\n",
    "data = pd.read_csv(\"../../smalldata/chicago/chicagoAllWeather.csv\")\n",
    "data = data.iloc[:,[1, 2, 3, 4, 5]]\n",
    "print(data.shape)\n",
    "data.head()"
   ]
  },
  {
   "cell_type": "code",
   "execution_count": 4,
   "metadata": {},
   "outputs": [
    {
     "name": "stdout",
     "output_type": "stream",
     "text": [
      "Time: 0:00:00.000043\n"
     ]
    }
   ],
   "source": [
    "# import time to measure elapsed time\n",
    "from timeit import default_timer as timer\n",
    "from datetime import timedelta\n",
    "import time\n",
    "\n",
    "start = timer()\n",
    "end = timer()\n",
    "print(\"Time:\", timedelta(seconds=end-start))"
   ]
  },
  {
   "cell_type": "markdown",
   "metadata": {},
   "source": [
    "Expected time with various sized data:\n",
    "* 5 000 rows, 5 features   ~ 0h  0m 35s\n",
    "* 10 000 rows, 5 features  ~ 0h  1m 54s\n",
    "* 15 000 rows, 5 features  ~ 0h  4m 19s\n",
    "* 20 000 rows, 5 features  ~ 0h  7m 46s\n",
    "* 25 000 rows, 5 features  ~ 0h 11m 44s\n",
    "* 30 000 rows, 5 features  ~ 0h 17m 14s\n",
    "* 35 000 rows, 5 features  ~ 0h 22m 53s\n",
    "* 40 000 rows, 5 features  ~ h m s\n",
    "* 45 000 rows, 5 features  ~ h m s\n",
    "* 50 000 rows, 5 features  ~ h m s"
   ]
  },
  {
   "cell_type": "markdown",
   "metadata": {},
   "source": [
    "## Traditional K-means"
   ]
  },
  {
   "cell_type": "markdown",
   "metadata": {},
   "source": [
    "## Constrained K-means"
   ]
  },
  {
   "cell_type": "code",
   "execution_count": 5,
   "metadata": {},
   "outputs": [
    {
     "name": "stdout",
     "output_type": "stream",
     "text": [
      "Parse progress: |█████████████████████████████████████████████████████████| 100%\n",
      "kmeans Model Build progress: |████████████████████████████████████████████| 100%\n",
      "Parse progress: |█████████████████████████████████████████████████████████| 100%\n",
      "Model Details\n",
      "=============\n",
      "H2OKMeansEstimator :  K-means\n",
      "Model Key:  KMeans_model_python_1582238555392_1\n",
      "\n",
      "\n",
      "Model Summary: \n"
     ]
    },
    {
     "data": {
      "text/html": [
       "<div>\n",
       "<style scoped>\n",
       "    .dataframe tbody tr th:only-of-type {\n",
       "        vertical-align: middle;\n",
       "    }\n",
       "\n",
       "    .dataframe tbody tr th {\n",
       "        vertical-align: top;\n",
       "    }\n",
       "\n",
       "    .dataframe thead th {\n",
       "        text-align: right;\n",
       "    }\n",
       "</style>\n",
       "<table border=\"1\" class=\"dataframe\">\n",
       "  <thead>\n",
       "    <tr style=\"text-align: right;\">\n",
       "      <th></th>\n",
       "      <th></th>\n",
       "      <th>number_of_rows</th>\n",
       "      <th>number_of_clusters</th>\n",
       "      <th>number_of_categorical_columns</th>\n",
       "      <th>number_of_iterations</th>\n",
       "      <th>within_cluster_sum_of_squares</th>\n",
       "      <th>total_sum_of_squares</th>\n",
       "      <th>between_cluster_sum_of_squares</th>\n",
       "    </tr>\n",
       "  </thead>\n",
       "  <tbody>\n",
       "    <tr>\n",
       "      <th>0</th>\n",
       "      <td></td>\n",
       "      <td>5162.0</td>\n",
       "      <td>3.0</td>\n",
       "      <td>0.0</td>\n",
       "      <td>10.0</td>\n",
       "      <td>13948.754926</td>\n",
       "      <td>25779.0</td>\n",
       "      <td>11830.245074</td>\n",
       "    </tr>\n",
       "  </tbody>\n",
       "</table>\n",
       "</div>"
      ],
      "text/plain": [
       "     number_of_rows  number_of_clusters  number_of_categorical_columns  \\\n",
       "0            5162.0                 3.0                            0.0   \n",
       "\n",
       "   number_of_iterations  within_cluster_sum_of_squares  total_sum_of_squares  \\\n",
       "0                  10.0                   13948.754926               25779.0   \n",
       "\n",
       "   between_cluster_sum_of_squares  \n",
       "0                    11830.245074  "
      ]
     },
     "metadata": {},
     "output_type": "display_data"
    },
    {
     "name": "stdout",
     "output_type": "stream",
     "text": [
      "\n",
      "\n",
      "ModelMetricsClustering: kmeans\n",
      "** Reported on train data. **\n",
      "\n",
      "MSE: NaN\n",
      "RMSE: NaN\n",
      "Total Within Cluster Sum of Square Error: 13948.749743334341\n",
      "Total Sum of Square Error to Grand Mean: 25778.999972296842\n",
      "Between Cluster Sum of Square Error: 11830.2502289625\n",
      "\n",
      "Centroid Statistics: \n"
     ]
    },
    {
     "data": {
      "text/html": [
       "<div>\n",
       "<style scoped>\n",
       "    .dataframe tbody tr th:only-of-type {\n",
       "        vertical-align: middle;\n",
       "    }\n",
       "\n",
       "    .dataframe tbody tr th {\n",
       "        vertical-align: top;\n",
       "    }\n",
       "\n",
       "    .dataframe thead th {\n",
       "        text-align: right;\n",
       "    }\n",
       "</style>\n",
       "<table border=\"1\" class=\"dataframe\">\n",
       "  <thead>\n",
       "    <tr style=\"text-align: right;\">\n",
       "      <th></th>\n",
       "      <th></th>\n",
       "      <th>centroid</th>\n",
       "      <th>size</th>\n",
       "      <th>within_cluster_sum_of_squares</th>\n",
       "    </tr>\n",
       "  </thead>\n",
       "  <tbody>\n",
       "    <tr>\n",
       "      <th>0</th>\n",
       "      <td></td>\n",
       "      <td>1.0</td>\n",
       "      <td>1134.0</td>\n",
       "      <td>3047.610882</td>\n",
       "    </tr>\n",
       "    <tr>\n",
       "      <th>1</th>\n",
       "      <td></td>\n",
       "      <td>2.0</td>\n",
       "      <td>1527.0</td>\n",
       "      <td>4341.602251</td>\n",
       "    </tr>\n",
       "    <tr>\n",
       "      <th>2</th>\n",
       "      <td></td>\n",
       "      <td>3.0</td>\n",
       "      <td>2501.0</td>\n",
       "      <td>6559.536610</td>\n",
       "    </tr>\n",
       "  </tbody>\n",
       "</table>\n",
       "</div>"
      ],
      "text/plain": [
       "     centroid    size  within_cluster_sum_of_squares\n",
       "0         1.0  1134.0                    3047.610882\n",
       "1         2.0  1527.0                    4341.602251\n",
       "2         3.0  2501.0                    6559.536610"
      ]
     },
     "metadata": {},
     "output_type": "display_data"
    },
    {
     "name": "stdout",
     "output_type": "stream",
     "text": [
      "\n",
      "Scoring History: \n"
     ]
    },
    {
     "data": {
      "text/html": [
       "<div>\n",
       "<style scoped>\n",
       "    .dataframe tbody tr th:only-of-type {\n",
       "        vertical-align: middle;\n",
       "    }\n",
       "\n",
       "    .dataframe tbody tr th {\n",
       "        vertical-align: top;\n",
       "    }\n",
       "\n",
       "    .dataframe thead th {\n",
       "        text-align: right;\n",
       "    }\n",
       "</style>\n",
       "<table border=\"1\" class=\"dataframe\">\n",
       "  <thead>\n",
       "    <tr style=\"text-align: right;\">\n",
       "      <th></th>\n",
       "      <th></th>\n",
       "      <th>timestamp</th>\n",
       "      <th>duration</th>\n",
       "      <th>iterations</th>\n",
       "      <th>number_of_reassigned_observations</th>\n",
       "      <th>within_cluster_sum_of_squares</th>\n",
       "    </tr>\n",
       "  </thead>\n",
       "  <tbody>\n",
       "    <tr>\n",
       "      <th>0</th>\n",
       "      <td></td>\n",
       "      <td>2020-02-20 23:43:02</td>\n",
       "      <td>0.041 sec</td>\n",
       "      <td>0.0</td>\n",
       "      <td>NaN</td>\n",
       "      <td>NaN</td>\n",
       "    </tr>\n",
       "    <tr>\n",
       "      <th>1</th>\n",
       "      <td></td>\n",
       "      <td>2020-02-20 23:43:02</td>\n",
       "      <td>0.119 sec</td>\n",
       "      <td>1.0</td>\n",
       "      <td>5162.0</td>\n",
       "      <td>21533.089233</td>\n",
       "    </tr>\n",
       "    <tr>\n",
       "      <th>2</th>\n",
       "      <td></td>\n",
       "      <td>2020-02-20 23:43:02</td>\n",
       "      <td>0.141 sec</td>\n",
       "      <td>2.0</td>\n",
       "      <td>475.0</td>\n",
       "      <td>16141.173442</td>\n",
       "    </tr>\n",
       "    <tr>\n",
       "      <th>3</th>\n",
       "      <td></td>\n",
       "      <td>2020-02-20 23:43:02</td>\n",
       "      <td>0.147 sec</td>\n",
       "      <td>3.0</td>\n",
       "      <td>369.0</td>\n",
       "      <td>15747.276295</td>\n",
       "    </tr>\n",
       "    <tr>\n",
       "      <th>4</th>\n",
       "      <td></td>\n",
       "      <td>2020-02-20 23:43:02</td>\n",
       "      <td>0.154 sec</td>\n",
       "      <td>4.0</td>\n",
       "      <td>389.0</td>\n",
       "      <td>15214.763875</td>\n",
       "    </tr>\n",
       "    <tr>\n",
       "      <th>5</th>\n",
       "      <td></td>\n",
       "      <td>2020-02-20 23:43:02</td>\n",
       "      <td>0.160 sec</td>\n",
       "      <td>5.0</td>\n",
       "      <td>321.0</td>\n",
       "      <td>14566.183474</td>\n",
       "    </tr>\n",
       "    <tr>\n",
       "      <th>6</th>\n",
       "      <td></td>\n",
       "      <td>2020-02-20 23:43:02</td>\n",
       "      <td>0.167 sec</td>\n",
       "      <td>6.0</td>\n",
       "      <td>236.0</td>\n",
       "      <td>14126.147235</td>\n",
       "    </tr>\n",
       "    <tr>\n",
       "      <th>7</th>\n",
       "      <td></td>\n",
       "      <td>2020-02-20 23:43:02</td>\n",
       "      <td>0.173 sec</td>\n",
       "      <td>7.0</td>\n",
       "      <td>69.0</td>\n",
       "      <td>13960.646170</td>\n",
       "    </tr>\n",
       "    <tr>\n",
       "      <th>8</th>\n",
       "      <td></td>\n",
       "      <td>2020-02-20 23:43:02</td>\n",
       "      <td>0.178 sec</td>\n",
       "      <td>8.0</td>\n",
       "      <td>25.0</td>\n",
       "      <td>13950.107800</td>\n",
       "    </tr>\n",
       "    <tr>\n",
       "      <th>9</th>\n",
       "      <td></td>\n",
       "      <td>2020-02-20 23:43:02</td>\n",
       "      <td>0.183 sec</td>\n",
       "      <td>9.0</td>\n",
       "      <td>10.0</td>\n",
       "      <td>13948.870202</td>\n",
       "    </tr>\n",
       "    <tr>\n",
       "      <th>10</th>\n",
       "      <td></td>\n",
       "      <td>2020-02-20 23:43:02</td>\n",
       "      <td>0.190 sec</td>\n",
       "      <td>10.0</td>\n",
       "      <td>1.0</td>\n",
       "      <td>13948.754926</td>\n",
       "    </tr>\n",
       "  </tbody>\n",
       "</table>\n",
       "</div>"
      ],
      "text/plain": [
       "                timestamp    duration  iterations  \\\n",
       "0     2020-02-20 23:43:02   0.041 sec         0.0   \n",
       "1     2020-02-20 23:43:02   0.119 sec         1.0   \n",
       "2     2020-02-20 23:43:02   0.141 sec         2.0   \n",
       "3     2020-02-20 23:43:02   0.147 sec         3.0   \n",
       "4     2020-02-20 23:43:02   0.154 sec         4.0   \n",
       "5     2020-02-20 23:43:02   0.160 sec         5.0   \n",
       "6     2020-02-20 23:43:02   0.167 sec         6.0   \n",
       "7     2020-02-20 23:43:02   0.173 sec         7.0   \n",
       "8     2020-02-20 23:43:02   0.178 sec         8.0   \n",
       "9     2020-02-20 23:43:02   0.183 sec         9.0   \n",
       "10    2020-02-20 23:43:02   0.190 sec        10.0   \n",
       "\n",
       "    number_of_reassigned_observations  within_cluster_sum_of_squares  \n",
       "0                                 NaN                            NaN  \n",
       "1                              5162.0                   21533.089233  \n",
       "2                               475.0                   16141.173442  \n",
       "3                               369.0                   15747.276295  \n",
       "4                               389.0                   15214.763875  \n",
       "5                               321.0                   14566.183474  \n",
       "6                               236.0                   14126.147235  \n",
       "7                                69.0                   13960.646170  \n",
       "8                                25.0                   13950.107800  \n",
       "9                                10.0                   13948.870202  \n",
       "10                                1.0                   13948.754926  "
      ]
     },
     "metadata": {},
     "output_type": "display_data"
    },
    {
     "name": "stdout",
     "output_type": "stream",
     "text": [
      "Time: 0:00:00.338255\n"
     ]
    }
   ],
   "source": [
    "data_h2o = h2o.H2OFrame(data)\n",
    "\n",
    "# run h2o Kmeans to get good starting points\n",
    "h2o_km = H2OKMeansEstimator(k=3, init=\"furthest\", standardize=True)\n",
    "start = timer()\n",
    "h2o_km.train(training_frame=data_h2o)\n",
    "end = timer()\n",
    "\n",
    "user_points = h2o.H2OFrame(h2o_km.centers())\n",
    "\n",
    "# show details\n",
    "h2o_km.show()\n",
    "time_km = timedelta(seconds=end-start)\n",
    "print(\"Time:\", time_km)\n",
    "h2o.remove(data_h2o)"
   ]
  },
  {
   "cell_type": "code",
   "execution_count": 6,
   "metadata": {},
   "outputs": [
    {
     "name": "stdout",
     "output_type": "stream",
     "text": [
      "Parse progress: |█████████████████████████████████████████████████████████| 100%\n",
      "kmeans Model Build progress: |████████████████████████████████████████████| 100%\n",
      "Time: 0:01:35.819023\n"
     ]
    }
   ],
   "source": [
    "data_h2o = h2o.H2OFrame(data)\n",
    "# run h2o constrained Kmeans\n",
    "h2o_km_co = H2OKMeansEstimator(k=3, user_points=user_points, cluster_size_constraints=[1000, 2000, 1000], standardize=True)\n",
    "start = timer()\n",
    "h2o_km_co.train(training_frame=data_h2o)\n",
    "end = timer()\n",
    "\n",
    "# show details\n",
    "# h2o_km_co.show()\n",
    "time_km_co = timedelta(seconds=end-start)\n",
    "print(\"Time:\", time_km_co)\n",
    "h2o.remove(data_h2o)"
   ]
  },
  {
   "cell_type": "code",
   "execution_count": null,
   "metadata": {},
   "outputs": [],
   "source": [
    "data_h2o = h2o.H2OFrame(pd.concat([data, data]))\n",
    "i = 2\n",
    "constraints = [i*1000, i*2000, i*1000]\n",
    "\n",
    "# run h2o constrained Kmeans\n",
    "h2o_km_co = H2OKMeansEstimator(k=3, user_points=user_points, cluster_size_constraints=constraints, standardize=True)\n",
    "start = timer()\n",
    "h2o_km_co.train(training_frame=data_h2o)\n",
    "end = timer()\n",
    "\n",
    "# show details\n",
    "# h2o_km_co.show()\n",
    "time_km_co = timedelta(seconds=end-start)\n",
    "print(\"Time:\", time_km_co)\n",
    "h2o.remove(data_h2o)"
   ]
  },
  {
   "cell_type": "code",
   "execution_count": null,
   "metadata": {},
   "outputs": [],
   "source": [
    "data_h2o = h2o.H2OFrame(pd.concat([data, data, data]))\n",
    "i = 3\n",
    "constraints = [i*1000, i*2000, i*1000]\n",
    "\n",
    "# run h2o constrained Kmeans\n",
    "h2o_km_co = H2OKMeansEstimator(k=3, user_points=user_points, cluster_size_constraints=constraints, standardize=True)\n",
    "start = timer()\n",
    "h2o_km_co.train(training_frame=data_h2o)\n",
    "end = timer()\n",
    "\n",
    "# show details\n",
    "# h2o_km_co.show()\n",
    "time_km_co = timedelta(seconds=end-start)\n",
    "print(\"Time:\", time_km_co)\n",
    "h2o.remove(data_h2o)"
   ]
  },
  {
   "cell_type": "code",
   "execution_count": null,
   "metadata": {},
   "outputs": [],
   "source": [
    "data_h2o = h2o.H2OFrame(pd.concat([data, data, data, data]))\n",
    "i = 4\n",
    "constraints = [i*1000, i*2000, i*1000]\n",
    "\n",
    "# run h2o constrained Kmeans\n",
    "h2o_km_co = H2OKMeansEstimator(k=3, user_points=user_points, cluster_size_constraints=constraints, standardize=True)\n",
    "start = timer()\n",
    "h2o_km_co.train(training_frame=data_h2o)\n",
    "end = timer()\n",
    "\n",
    "# show details\n",
    "# h2o_km_co.show()\n",
    "time_km_co = timedelta(seconds=end-start)\n",
    "print(\"Time:\", time_km_co)\n",
    "h2o.remove(data_h2o)"
   ]
  },
  {
   "cell_type": "code",
   "execution_count": null,
   "metadata": {},
   "outputs": [],
   "source": [
    "data_h2o = h2o.H2OFrame(pd.concat([data, data, data, data, data]))\n",
    "i = 5\n",
    "constraints = [i*1000, i*2000, i*1000]\n",
    "\n",
    "# run h2o constrained Kmeans\n",
    "h2o_km_co = H2OKMeansEstimator(k=3, user_points=user_points, cluster_size_constraints=constraints, standardize=True)\n",
    "start = timer()\n",
    "h2o_km_co.train(training_frame=data_h2o)\n",
    "end = timer()\n",
    "\n",
    "# show details\n",
    "# h2o_km_co.show()\n",
    "time_km_co = timedelta(seconds=end-start)\n",
    "print(\"Time:\", time_km_co)\n",
    "h2o.remove(data_h2o)"
   ]
  },
  {
   "cell_type": "code",
   "execution_count": null,
   "metadata": {},
   "outputs": [],
   "source": [
    "data_h2o = h2o.H2OFrame(pd.concat([data, data, data, data, data, data]))\n",
    "i = 6\n",
    "constraints = [i*1000, i*2000, i*1000]\n",
    "\n",
    "# run h2o constrained Kmeans\n",
    "h2o_km_co = H2OKMeansEstimator(k=3, user_points=user_points, cluster_size_constraints=constraints, standardize=True)\n",
    "start = timer()\n",
    "h2o_km_co.train(training_frame=data_h2o)\n",
    "end = timer()\n",
    "\n",
    "# show details\n",
    "# h2o_km_co.show()\n",
    "time_km_co = timedelta(seconds=end-start)\n",
    "print(\"Time:\", time_km_co)\n",
    "h2o.remove(data_h2o)"
   ]
  },
  {
   "cell_type": "code",
   "execution_count": null,
   "metadata": {},
   "outputs": [],
   "source": [
    "data_h2o = h2o.H2OFrame(pd.concat([data, data, data, data, data, data, data]))\n",
    "i = 7\n",
    "constraints = [i*1000, i*2000, i*1000]\n",
    "\n",
    "# run h2o constrained Kmeans\n",
    "h2o_km_co = H2OKMeansEstimator(k=3, user_points=user_points, cluster_size_constraints=constraints, standardize=True)\n",
    "start = timer()\n",
    "h2o_km_co.train(training_frame=data_h2o)\n",
    "end = timer()\n",
    "\n",
    "# show details\n",
    "# h2o_km_co.show()\n",
    "time_km_co = timedelta(seconds=end-start)\n",
    "print(\"Time:\", time_km_co)\n",
    "h2o.remove(data_h2o)"
   ]
  },
  {
   "cell_type": "code",
   "execution_count": 7,
   "metadata": {},
   "outputs": [
    {
     "name": "stdout",
     "output_type": "stream",
     "text": [
      "Parse progress: |█████████████████████████████████████████████████████████| 100%\n",
      "kmeans Model Build progress: |████████████████████████████████████████████| 100%\n",
      "Time: 1:17:05.203777\n"
     ]
    }
   ],
   "source": [
    "data_h2o = h2o.H2OFrame(pd.concat([data, data, data, data, data, data, data, data]))\n",
    "i = 8\n",
    "constraints = [i*1000, i*2000, i*1000]\n",
    "\n",
    "# run h2o constrained Kmeans\n",
    "h2o_km_co = H2OKMeansEstimator(k=3, user_points=user_points, cluster_size_constraints=constraints, standardize=True)\n",
    "start = timer()\n",
    "h2o_km_co.train(training_frame=data_h2o)\n",
    "end = timer()\n",
    "\n",
    "# show details\n",
    "# h2o_km_co.show()\n",
    "time_km_co = timedelta(seconds=end-start)\n",
    "print(\"Time:\", time_km_co)\n",
    "h2o.remove(data_h2o)"
   ]
  },
  {
   "cell_type": "code",
   "execution_count": 8,
   "metadata": {},
   "outputs": [
    {
     "name": "stdout",
     "output_type": "stream",
     "text": [
      "Parse progress: |█████████████████████████████████████████████████████████| 100%\n",
      "kmeans Model Build progress: |████████████████████████████████████████████| 100%\n",
      "Time: 1:38:15.584080\n"
     ]
    }
   ],
   "source": [
    "data_h2o = h2o.H2OFrame(pd.concat([data, data, data, data, data, data, data, data, data]))\n",
    "i = 9\n",
    "constraints = [i*1000, i*2000, i*1000]\n",
    "\n",
    "# run h2o constrained Kmeans\n",
    "h2o_km_co = H2OKMeansEstimator(k=3, user_points=user_points, cluster_size_constraints=constraints, standardize=True)\n",
    "start = timer()\n",
    "h2o_km_co.train(training_frame=data_h2o)\n",
    "end = timer()\n",
    "\n",
    "# show details\n",
    "# h2o_km_co.show()\n",
    "time_km_co = timedelta(seconds=end-start)\n",
    "print(\"Time:\", time_km_co)\n",
    "h2o.remove(data_h2o)"
   ]
  },
  {
   "cell_type": "code",
   "execution_count": null,
   "metadata": {},
   "outputs": [
    {
     "name": "stdout",
     "output_type": "stream",
     "text": [
      "Parse progress: |█████████████████████████████████████████████████████████| 100%\n",
      "kmeans Model Build progress: |███████████████"
     ]
    }
   ],
   "source": [
    "data_h2o = h2o.H2OFrame(pd.concat([data, data, data, data, data, data, data, data, data, data]))\n",
    "i = 10\n",
    "constraints = [i*1000, i*2000, i*1000]\n",
    "\n",
    "# run h2o constrained Kmeans\n",
    "h2o_km_co = H2OKMeansEstimator(k=3, user_points=user_points, cluster_size_constraints=constraints, standardize=True)\n",
    "start = timer()\n",
    "h2o_km_co.train(training_frame=data_h2o)\n",
    "end = timer()\n",
    "\n",
    "# show details\n",
    "# h2o_km_co.show()\n",
    "time_km_co = timedelta(seconds=end-start)\n",
    "print(\"Time:\", time_km_co)\n",
    "h2o.remove(data_h2o)"
   ]
  }
 ],
 "metadata": {
  "kernelspec": {
   "display_name": "Python 3",
   "language": "python",
   "name": "python3"
  },
  "language_info": {
   "codemirror_mode": {
    "name": "ipython",
    "version": 3
   },
   "file_extension": ".py",
   "mimetype": "text/x-python",
   "name": "python",
   "nbconvert_exporter": "python",
   "pygments_lexer": "ipython3",
   "version": "3.7.3rc1"
  }
 },
 "nbformat": 4,
 "nbformat_minor": 2
}
